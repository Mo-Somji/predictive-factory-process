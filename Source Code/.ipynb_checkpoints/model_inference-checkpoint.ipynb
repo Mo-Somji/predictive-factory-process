{
 "cells": [
  {
   "cell_type": "code",
   "execution_count": 19,
   "id": "8e618163-8b6a-4b8e-9339-ffaebe829568",
   "metadata": {},
   "outputs": [],
   "source": [
    "# Now that we have our final model, let's actually deploy it to see how it fairs on the data it had not seen before!\n",
    "\n",
    "import joblib\n",
    "from sklearn.metrics import mean_absolute_error\n",
    "from sklearn.ensemble import RandomForestRegressor\n",
    "import pandas as pd\n",
    "from sklearn.preprocessing import MinMaxScaler\n",
    "import numpy as np"
   ]
  },
  {
   "cell_type": "code",
   "execution_count": 13,
   "id": "6665f4b5-d734-491f-b752-9a766c56b874",
   "metadata": {},
   "outputs": [],
   "source": [
    "# Function to load the best model from our project and the X and y scalers\n",
    "\n",
    "def load_model(path):\n",
    "    model = joblib.load(path)\n",
    "    return model\n",
    "\n",
    "def load_scalers(X_scaler_path, y_scaler_path):\n",
    "    scaler_X = joblib.load(X_scaler_path)\n",
    "    scaler_y = joblib.load(y_scaler_path)\n",
    "\n",
    "    return scaler_X, scaler_y\n",
    "\n",
    "def load_test_data(X_test_path, y_test_path):\n",
    "    X_test = pd.read_csv(X_test_path)\n",
    "    y_test = pd.read_csv(y_test_path).squeeze()\n",
    "\n",
    "    return X_test, y_test"
   ]
  },
  {
   "cell_type": "code",
   "execution_count": 18,
   "id": "4ee4a93c-a8d6-4c45-a2cd-9f0a34356cc5",
   "metadata": {},
   "outputs": [],
   "source": [
    "# Function to load a set of X_test values\n",
    "\n",
    "def load_X_test_set(X_test):\n",
    "    random_X_row = X_test.sample(n=1)\n",
    "    "
   ]
  },
  {
   "cell_type": "code",
   "execution_count": 17,
   "id": "324ce9ea-31f5-430a-9c61-d65b847c1365",
   "metadata": {},
   "outputs": [],
   "source": [
    "if __name__ == '__main__':\n",
    "    # path links to best model and scalers for X and y data\n",
    "    best_model_path = '../Models/Final_Model.pkl'\n",
    "    X_scaler_path = '../Models/X_minmax_scaler.pkl'\n",
    "    y_scaler_path = '../Models/y_minmax_scaler.pkl'\n",
    "    X_test_file_path = '../Data/X_test_dataset.csv'\n",
    "    y_test_file_path = '../Data/y_test_dataset.csv'\n",
    "\n",
    "    # loading the best model and scalers for X and y\n",
    "    best_model = load_model(best_model_path)\n",
    "    scaler_X, scaler_y = load_scalers(X_scaler_path, y_scaler_path)\n",
    "    X_test, y_test = load_test_data(X_test_file_path, y_test_file_path)\n",
    "\n",
    "    # Now let's see the results of our model on some of the test data the model was not trained on\n",
    "    # We will select a random row from the X_test dataset and feed that into the model to make predictions\n",
    "    # Then we will compare y_pred and y_test, presenting the actual values and MAE\n",
    "\n",
    "    # First we will load a random set of X values from the X_test dataset\n",
    "    \n",
    "    \n",
    "    \n",
    "    "
   ]
  },
  {
   "cell_type": "code",
   "execution_count": null,
   "id": "c3db273f-0e34-4faf-aa51-027815e617d2",
   "metadata": {},
   "outputs": [],
   "source": []
  }
 ],
 "metadata": {
  "kernelspec": {
   "display_name": "Python 3 (ipykernel)",
   "language": "python",
   "name": "python3"
  },
  "language_info": {
   "codemirror_mode": {
    "name": "ipython",
    "version": 3
   },
   "file_extension": ".py",
   "mimetype": "text/x-python",
   "name": "python",
   "nbconvert_exporter": "python",
   "pygments_lexer": "ipython3",
   "version": "3.9.13"
  }
 },
 "nbformat": 4,
 "nbformat_minor": 5
}
