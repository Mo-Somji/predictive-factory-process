{
 "cells": [
  {
   "cell_type": "code",
   "execution_count": 1,
   "id": "9bd5336a-63b4-4758-8020-ca8a3b035c32",
   "metadata": {},
   "outputs": [
    {
     "name": "stderr",
     "output_type": "stream",
     "text": [
      "Matplotlib is building the font cache; this may take a moment.\n"
     ]
    }
   ],
   "source": [
    "import numpy as np\n",
    "import pandas as pd\n",
    "import matplotlib.pyplot as plt"
   ]
  },
  {
   "cell_type": "code",
   "execution_count": 2,
   "id": "e2590034-46c3-4af6-9c89-4fc7dc30f0bd",
   "metadata": {},
   "outputs": [],
   "source": [
    "# First we are going to create a function to load the data\n",
    "\n",
    "def load_data(file_path):\n",
    "    return pd.read_csv(file_path)\n"
   ]
  },
  {
   "cell_type": "code",
   "execution_count": 3,
   "id": "46d9306b-a874-4bba-862c-d4f938a10f6b",
   "metadata": {},
   "outputs": [],
   "source": [
    "# Run the function to load the data\n",
    "\n",
    "if __name__ == '__main__':\n",
    "    file_path = '../Data/continuous_factory_process.csv'\n",
    "    df = load_data(file_path)"
   ]
  },
  {
   "cell_type": "code",
   "execution_count": null,
   "id": "e8478daa-b2ad-46bb-a1a7-c7ac2ccadabb",
   "metadata": {},
   "outputs": [],
   "source": []
  },
  {
   "cell_type": "code",
   "execution_count": null,
   "id": "4ed0cb8c-9f7e-409c-8acf-d6db2d316907",
   "metadata": {},
   "outputs": [],
   "source": []
  }
 ],
 "metadata": {
  "kernelspec": {
   "display_name": "Python 3 (ipykernel)",
   "language": "python",
   "name": "python3"
  },
  "language_info": {
   "codemirror_mode": {
    "name": "ipython",
    "version": 3
   },
   "file_extension": ".py",
   "mimetype": "text/x-python",
   "name": "python",
   "nbconvert_exporter": "python",
   "pygments_lexer": "ipython3",
   "version": "3.9.6"
  }
 },
 "nbformat": 4,
 "nbformat_minor": 5
}
